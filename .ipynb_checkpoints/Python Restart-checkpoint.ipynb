{
 "cells": [
  {
   "cell_type": "code",
   "execution_count": 3,
   "metadata": {},
   "outputs": [],
   "source": [
    "def new_user():\n",
    "    confirm = \"N\"\n",
    "    while confirm != \"Y\":\n",
    "        username = str(input(\"Enter the name of the user to add: \"))\n",
    "        print(\"Use username '\" + username + \"'? (Y/N)\")\n",
    "        confirm = str(input(\"\")).upper()\n",
    "        print(confirm)"
   ]
  },
  {
   "cell_type": "code",
   "execution_count": 4,
   "metadata": {},
   "outputs": [
    {
     "name": "stdout",
     "output_type": "stream",
     "text": [
      "Enter the name of the user to add: Trevor\n",
      "Use username 'Trevor'? (Y/N)\n",
      "y\n",
      "Y\n"
     ]
    }
   ],
   "source": [
    "new_user()"
   ]
  },
  {
   "cell_type": "code",
   "execution_count": 5,
   "metadata": {},
   "outputs": [
    {
     "name": "stdout",
     "output_type": "stream",
     "text": [
      "Enter the name of the user to add: trevor\n",
      "Use username 'trevor'? (Y/N)\n",
      "n\n",
      "N\n",
      "Enter the name of the user to add: tre\n",
      "Use username 'tre'? (Y/N)\n",
      "n\n",
      "N\n",
      "Enter the name of the user to add: yhe\n",
      "Use username 'yhe'? (Y/N)\n",
      "r\n",
      "R\n",
      "Enter the name of the user to add: tre\n",
      "Use username 'tre'? (Y/N)\n",
      "y\n",
      "Y\n"
     ]
    }
   ],
   "source": [
    "new_user()"
   ]
  },
  {
   "cell_type": "code",
   "execution_count": 7,
   "metadata": {},
   "outputs": [],
   "source": [
    "my_list = [1, 2, 3, 4, 5]"
   ]
  },
  {
   "cell_type": "code",
   "execution_count": 4,
   "metadata": {},
   "outputs": [
    {
     "name": "stdout",
     "output_type": "stream",
     "text": [
      "The value of each item is: 0\n",
      "The value of each item is: 1\n",
      "The value of each item is: 2\n",
      "The value of each item is: 3\n",
      "The value of each item is: 4\n",
      "The value of each item is: 5\n"
     ]
    }
   ],
   "source": [
    "for item in my_list:\n",
    "    print('The value of each item is: ' + str(item))"
   ]
  },
  {
   "cell_type": "code",
   "execution_count": 8,
   "metadata": {},
   "outputs": [
    {
     "name": "stdout",
     "output_type": "stream",
     "text": [
      "The index value is: 0. The value at i is: 1\n",
      "The index value is: 1. The value at i is: 2\n",
      "The index value is: 2. The value at i is: 3\n",
      "The index value is: 3. The value at i is: 4\n",
      "The index value is: 4. The value at i is: 5\n"
     ]
    }
   ],
   "source": [
    "for i, value in enumerate(my_list):\n",
    "    print('The index value is: ' + str(i) + '. The value at i is: ' + str(value))"
   ]
  },
  {
   "cell_type": "code",
   "execution_count": 10,
   "metadata": {},
   "outputs": [
    {
     "name": "stdout",
     "output_type": "stream",
     "text": [
      "0\n",
      "1\n",
      "2\n",
      "3\n",
      "4\n",
      "5\n",
      "6\n",
      "7\n",
      "8\n",
      "9\n"
     ]
    }
   ],
   "source": [
    "i = 0\n",
    "while(i < 10):\n",
    "    print(i)\n",
    "    i += 1"
   ]
  },
  {
   "cell_type": "code",
   "execution_count": 11,
   "metadata": {},
   "outputs": [],
   "source": [
    "my_dict = {'a': 'jill', 'b': 'tom', 'c': 'tim'}"
   ]
  },
  {
   "cell_type": "code",
   "execution_count": 15,
   "metadata": {},
   "outputs": [
    {
     "name": "stdout",
     "output_type": "stream",
     "text": [
      "a - jill\n",
      "b - tom\n",
      "c - tim\n"
     ]
    }
   ],
   "source": [
    "for key in my_dict:\n",
    "    print(key + ' - ' + my_dict[key])"
   ]
  },
  {
   "cell_type": "code",
   "execution_count": 17,
   "metadata": {},
   "outputs": [
    {
     "data": {
      "text/plain": [
       "'jill'"
      ]
     },
     "execution_count": 17,
     "metadata": {},
     "output_type": "execute_result"
    }
   ],
   "source": [
    "my_dict['a']"
   ]
  },
  {
   "cell_type": "code",
   "execution_count": 18,
   "metadata": {},
   "outputs": [
    {
     "name": "stdout",
     "output_type": "stream",
     "text": [
      "[0, 1, 2, 3]\n"
     ]
    }
   ],
   "source": [
    "my_dict = {'a':[0, 1, 2, 3], 'b':[0, 1, 2, 3], 'c':[0, 1, 2, 3], 'd':[0, 1, 2, 3]}\n",
    "i = 0\n",
    "output = []\n",
    "for key in my_dict:\n",
    "    output.append(my_dict[key][i])\n",
    "    i += 1\n",
    "print(output)"
   ]
  },
  {
   "cell_type": "code",
   "execution_count": 20,
   "metadata": {},
   "outputs": [
    {
     "name": "stdout",
     "output_type": "stream",
     "text": [
      "The number equals 5.\n"
     ]
    }
   ],
   "source": [
    "num = 5\n",
    "if num < 5:\n",
    "    print('The number is smaller than 5.')\n",
    "elif num == 5:\n",
    "    print('The number equals 5.')\n",
    "else:\n",
    "    print('The number is greater than 5.')"
   ]
  },
  {
   "cell_type": "code",
   "execution_count": 32,
   "metadata": {},
   "outputs": [],
   "source": [
    "def smallest_positive(in_list):\n",
    "    # TODO: Define a control structure that finds the smallest positive\n",
    "    # number in in_list and returns the correct smallest number.\n",
    "    smallest_pos = None\n",
    "    for num in in_list:\n",
    "        if num > 0:\n",
    "            # Note: we use a logical \"or\" in this solution to form \n",
    "            # the conditional statement, although this was\n",
    "            # not introduced above. \n",
    "            if smallest_pos == None or num < smallest_pos:\n",
    "                smallest_pos = num\n",
    "                print('Smallest positive: ', smallest_pos)\n",
    "                print('Num: ', num)\n",
    "    return smallest_pos\n",
    "\n"
   ]
  },
  {
   "cell_type": "code",
   "execution_count": 34,
   "metadata": {},
   "outputs": [
    {
     "name": "stdout",
     "output_type": "stream",
     "text": [
      "Smallest positive:  4\n",
      "Num:  4\n",
      "Smallest positive:  2\n",
      "Num:  2\n",
      "2\n",
      "Smallest positive:  0.2\n",
      "Num:  0.2\n",
      "0.2\n",
      "None\n",
      "None\n"
     ]
    }
   ],
   "source": [
    "# Test cases\n",
    "\n",
    "print(smallest_positive([4, -6, 7, 2, -4, 10]))\n",
    "# Correct output: 2\n",
    "\n",
    "print(smallest_positive([.2, 5, 3, -.1, 7, 7, 6]))\n",
    "# Correct output: 0.2\n",
    "\n",
    "print(smallest_positive([-6, -9, -7]))\n",
    "# Correct output: None\n",
    "\n",
    "print(smallest_positive([]))\n",
    "# Correct output: None"
   ]
  },
  {
   "cell_type": "code",
   "execution_count": 33,
   "metadata": {
    "scrolled": true
   },
   "outputs": [
    {
     "name": "stdout",
     "output_type": "stream",
     "text": [
      "Smallest positive:  4\n",
      "Num:  4\n",
      "Smallest positive:  2\n",
      "Num:  2\n",
      "2\n"
     ]
    }
   ],
   "source": [
    "print(smallest_positive([4, -6, 7, 2, -4, 10]))"
   ]
  },
  {
   "cell_type": "code",
   "execution_count": null,
   "metadata": {},
   "outputs": [],
   "source": []
  },
  {
   "cell_type": "code",
   "execution_count": 22,
   "metadata": {},
   "outputs": [],
   "source": [
    "x = None"
   ]
  },
  {
   "cell_type": "code",
   "execution_count": 23,
   "metadata": {},
   "outputs": [
    {
     "name": "stdout",
     "output_type": "stream",
     "text": [
      "None\n"
     ]
    }
   ],
   "source": [
    "print(x)"
   ]
  },
  {
   "cell_type": "code",
   "execution_count": 27,
   "metadata": {},
   "outputs": [
    {
     "name": "stdout",
     "output_type": "stream",
     "text": [
      "['spring2020', 'fall2020']\n",
      "[]\n"
     ]
    }
   ],
   "source": [
    "# This exercise uses a data structure that stores Udacity course information.\n",
    "# The data structure format is:\n",
    "\n",
    "#    { <semester>: { <class>: { <property>: <value>, ... },\n",
    "#                                     ... },\n",
    "#      ... }\n",
    "\n",
    "\n",
    "courses = {\n",
    "    'spring2020': { 'cs101': {'name': 'Building a Search Engine',\n",
    "                           'teacher': 'Dave',\n",
    "                           'assistant': 'Peter C.'},\n",
    "                 'cs373': {'name': 'Programming a Robotic Car',\n",
    "                           'teacher': 'Sebastian',\n",
    "                           'assistant': 'Andy'}},\n",
    "    'fall2020': { 'cs101': {'name': 'Building a Search Engine',\n",
    "                           'teacher': 'Dave',\n",
    "                           'assistant': 'Sarah'},\n",
    "                 'cs212': {'name': 'The Design of Computer Programs',\n",
    "                           'teacher': 'Peter N.',\n",
    "                           'assistant': 'Andy',\n",
    "                           'prereq': 'cs101'},\n",
    "                 'cs253': {'name': 'Web Application Engineering - Building a Blog',\n",
    "                           'teacher': 'Steve',\n",
    "                           'prereq': 'cs101'},\n",
    "                 'cs262': {'name': 'Programming Languages - Building a Web Browser',\n",
    "                           'teacher': 'Wes',\n",
    "                           'assistant': 'Peter C.',\n",
    "                           'prereq': 'cs101'},\n",
    "                 'cs373': {'name': 'Programming a Robotic Car',\n",
    "                           'teacher': 'Sebastian'},\n",
    "                 'cs387': {'name': 'Applied Cryptography',\n",
    "                           'teacher': 'Dave'}},\n",
    "    'spring2044': { 'cs001': {'name': 'Building a Quantum Holodeck',\n",
    "                           'teacher': 'Dorina'},\n",
    "                        'cs003': {'name': 'Programming a Robotic Robotics Teacher',\n",
    "                           'teacher': 'Jasper'},\n",
    "                     }\n",
    "    }\n",
    "\n",
    "\n",
    "def when_offered(courses, course):\n",
    "    # TODO: Fill out the function here.\n",
    "    course_list = []\n",
    "    for key in courses:\n",
    "        #print(key)\n",
    "        #print(courses[key])\n",
    "        for key2 in courses[key]:\n",
    "            #print(key2)\n",
    "            if key2 == course:\n",
    "                course_list.append(key)\n",
    "    # TODO: Return list of semesters here.\n",
    "    return course_list\n",
    "\n",
    "\n",
    "\n",
    "print(when_offered(courses, 'cs101'))\n",
    "# Correct result: \n",
    "# ['fall2020', 'spring2020']\n",
    "\n",
    "print(when_offered(courses, 'bio893'))\n",
    "# Correct result: \n",
    "# []\n"
   ]
  },
  {
   "cell_type": "code",
   "execution_count": 28,
   "metadata": {},
   "outputs": [],
   "source": [
    "def when_offered2(courses, course):\n",
    "    sem_list = []\n",
    "    for key in courses:\n",
    "        if course in courses[key]:\n",
    "            sem_list.append(key)\n",
    "    return sem_list"
   ]
  },
  {
   "cell_type": "code",
   "execution_count": 29,
   "metadata": {},
   "outputs": [
    {
     "name": "stdout",
     "output_type": "stream",
     "text": [
      "['spring2020', 'fall2020']\n"
     ]
    }
   ],
   "source": [
    "print(when_offered2(courses, 'cs101'))"
   ]
  },
  {
   "cell_type": "code",
   "execution_count": 36,
   "metadata": {},
   "outputs": [
    {
     "name": "stdout",
     "output_type": "stream",
     "text": [
      "0\n",
      "2\n",
      "4\n",
      "6\n",
      "8\n",
      "7\n",
      "10\n",
      "12\n",
      "14\n",
      "16\n",
      "18\n",
      "20\n",
      "22\n",
      "24\n",
      "26\n",
      "28\n"
     ]
    }
   ],
   "source": [
    "# Definition of the generator to produce even numbers.\n",
    "def all_even():\n",
    "    n = 0\n",
    "    while True:\n",
    "        yield n\n",
    "        n += 2\n",
    "\n",
    "my_gen = all_even()\n",
    "\n",
    "# Generate the first 5 even numbers.\n",
    "for i in range(5):\n",
    "    print(next(my_gen))\n",
    "\n",
    "# Now go and do some other processing.\n",
    "do_something = 4\n",
    "do_something += 3\n",
    "print(do_something)\n",
    "\n",
    "# Now go back to generating more even numbers.\n",
    "for i in range(10):\n",
    "    print(next(my_gen))"
   ]
  },
  {
   "cell_type": "code",
   "execution_count": 37,
   "metadata": {},
   "outputs": [
    {
     "name": "stdout",
     "output_type": "stream",
     "text": [
      "1\n",
      "2\n",
      "6\n",
      "24\n",
      "120\n"
     ]
    }
   ],
   "source": [
    "def prod(a,b):\n",
    "    # TODO change output to the product of a and b\n",
    "    return a*b\n",
    "\n",
    "def fact_gen():\n",
    "    i = 1\n",
    "    n = i\n",
    "    while True:\n",
    "        output = prod(n, i)\n",
    "        yield output\n",
    "        # TODO: update i and n\n",
    "        # Hint: i is a successive integer and n is the previous product\n",
    "        i += 1\n",
    "        n = output\n",
    "\n",
    "\n",
    "# Test block\n",
    "my_gen = fact_gen()\n",
    "num = 5\n",
    "for i in range(num):\n",
    "    print(next(my_gen))\n",
    "\n",
    "# Correct result when num = 5:\n",
    "# 1\n",
    "# 2\n",
    "# 6\n",
    "# 24\n",
    "# 120"
   ]
  },
  {
   "cell_type": "code",
   "execution_count": null,
   "metadata": {},
   "outputs": [],
   "source": []
  },
  {
   "cell_type": "code",
   "execution_count": 1,
   "metadata": {},
   "outputs": [],
   "source": [
    "def check_sudoku(square):\n",
    "    for row in square:\n",
    "        # Create a list with the integers 1, 2, ..., n.\n",
    "        # We will check that each number in the row is in the list\n",
    "        # and remove the numbers from the list once they are verified\n",
    "        # to ensure that each number only occurs once in the row.\n",
    "        check_list = list(range(1, len(square[0]) + 1))\n",
    "        for i in row:\n",
    "            if i not in check_list:\n",
    "                return False\n",
    "            check_list.remove(i)\n",
    "    for n in range(len(square[0])):\n",
    "        # We do the same here for each column in the square.\n",
    "        check_list = list(range(1, len(square[0]) + 1))\n",
    "        for row in square:\n",
    "            if row[n] not in check_list:\n",
    "                return False\n",
    "            check_list.remove(row[n])\n",
    "    return True"
   ]
  },
  {
   "cell_type": "code",
   "execution_count": 2,
   "metadata": {},
   "outputs": [],
   "source": [
    "correct = [[1,2,3],\n",
    "           [2,3,1],\n",
    "           [3,1,2]]\n",
    "\n",
    "incorrect = [[1,2,3,4],\n",
    "             [2,3,1,3],\n",
    "             [3,1,2,3],\n",
    "             [4,4,4,4]]\n",
    "\n",
    "incorrect2 = [[1,2,3,4],\n",
    "             [2,3,1,4],\n",
    "             [4,1,2,3],\n",
    "             [3,4,1,2]]\n",
    "\n",
    "incorrect3 = [[1,2,3,4,5],\n",
    "              [2,3,1,5,6],\n",
    "              [4,5,2,1,3],\n",
    "              [3,4,5,2,1],\n",
    "              [5,6,4,3,2]]\n",
    "\n",
    "incorrect4 = [['a','b','c'],\n",
    "              ['b','c','a'],\n",
    "              ['c','a','b']]\n",
    "\n",
    "incorrect5 = [ [1, 1.5],\n",
    "               [1.5, 1]]\n",
    "               "
   ]
  },
  {
   "cell_type": "code",
   "execution_count": 3,
   "metadata": {},
   "outputs": [
    {
     "name": "stdout",
     "output_type": "stream",
     "text": [
      "False\n",
      "True\n",
      "False\n",
      "False\n",
      "False\n",
      "False\n"
     ]
    }
   ],
   "source": [
    "print(check_sudoku(incorrect))\n",
    "#>>> False\n",
    "\n",
    "print(check_sudoku(correct))\n",
    "#>>> True\n",
    "\n",
    "print(check_sudoku(incorrect2))\n",
    "#>>> False\n",
    "\n",
    "print(check_sudoku(incorrect3))\n",
    "#>>> False\n",
    "\n",
    "print(check_sudoku(incorrect4))\n",
    "#>>> False\n",
    "\n",
    "print(check_sudoku(incorrect5))\n",
    "#>>> False\n"
   ]
  },
  {
   "cell_type": "code",
   "execution_count": null,
   "metadata": {},
   "outputs": [],
   "source": []
  }
 ],
 "metadata": {
  "kernelspec": {
   "display_name": "Python 3",
   "language": "python",
   "name": "python3"
  },
  "language_info": {
   "codemirror_mode": {
    "name": "ipython",
    "version": 3
   },
   "file_extension": ".py",
   "mimetype": "text/x-python",
   "name": "python",
   "nbconvert_exporter": "python",
   "pygments_lexer": "ipython3",
   "version": "3.7.6"
  }
 },
 "nbformat": 4,
 "nbformat_minor": 4
}
